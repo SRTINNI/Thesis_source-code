{
 "cells": [
  {
   "cell_type": "code",
   "execution_count": 56,
   "metadata": {},
   "outputs": [],
   "source": [
    "from sklearn.linear_model import LogisticRegression\n",
    "from sklearn.svm import SVC\n",
    "from sklearn.ensemble import RandomForestClassifier\n",
    "from sklearn.linear_model import LinearRegression\n",
    "import numpy as np\n",
    "import pandas as pd\n",
    "import matplotlib.pyplot as plt\n"
   ]
  },
  {
   "cell_type": "code",
   "execution_count": 57,
   "metadata": {},
   "outputs": [],
   "source": [
    "#dataset = pd.read_csv('C:/Users/SRTINNI/Desktop/covid_lstm.csv',index_col='Date',parse_dates=True)\n",
    "#dataset.index.asfreq = 'MS'\n",
    "##dataset.shape\n",
    "\n",
    "#dataset = pd.read_csv('C:/Users/SRTINNI/Desktop/TPW/Datasets/covid-19 data set/this dataset are final/covid_full.csv',index_col='DATE'   ,parse_dates=True)\n",
    "#dataset = pd.read_csv('C:/Users/SRTINNI/Desktop/TPW/Datasets/covid-19 data set/this dataset are final/covid_full.csv')\n",
    "\n",
    "#dataset=dataset.dropna()\n",
    "#dataset.columns\n",
    "#dataset"
   ]
  },
  {
   "cell_type": "code",
   "execution_count": 58,
   "metadata": {},
   "outputs": [],
   "source": [
    "import datetime as dt"
   ]
  },
  {
   "cell_type": "code",
   "execution_count": 59,
   "metadata": {},
   "outputs": [],
   "source": [
    "import numpy as np\n"
   ]
  },
  {
   "cell_type": "code",
   "execution_count": 60,
   "metadata": {},
   "outputs": [
    {
     "data": {
      "text/html": [
       "<div>\n",
       "<style scoped>\n",
       "    .dataframe tbody tr th:only-of-type {\n",
       "        vertical-align: middle;\n",
       "    }\n",
       "\n",
       "    .dataframe tbody tr th {\n",
       "        vertical-align: top;\n",
       "    }\n",
       "\n",
       "    .dataframe thead th {\n",
       "        text-align: right;\n",
       "    }\n",
       "</style>\n",
       "<table border=\"1\" class=\"dataframe\">\n",
       "  <thead>\n",
       "    <tr style=\"text-align: right;\">\n",
       "      <th></th>\n",
       "      <th>DATE</th>\n",
       "      <th>total_cases</th>\n",
       "      <th>Daily new cases</th>\n",
       "      <th>new_cases_smoothed</th>\n",
       "      <th>total_deaths</th>\n",
       "      <th>new_deaths</th>\n",
       "      <th>new_deaths_smoothed</th>\n",
       "      <th>total_cases_per_million</th>\n",
       "      <th>new_cases_per_million</th>\n",
       "      <th>new_cases_smoothed_per_million</th>\n",
       "      <th>total_deaths_per_million</th>\n",
       "      <th>new_deaths_per_million</th>\n",
       "      <th>new_deaths_smoothed_per_million</th>\n",
       "      <th>reproduction_rate</th>\n",
       "    </tr>\n",
       "  </thead>\n",
       "  <tbody>\n",
       "    <tr>\n",
       "      <th>35</th>\n",
       "      <td>07-04-20</td>\n",
       "      <td>164.0</td>\n",
       "      <td>41.0</td>\n",
       "      <td>16.143</td>\n",
       "      <td>17.0</td>\n",
       "      <td>5.0</td>\n",
       "      <td>1.714</td>\n",
       "      <td>0.986</td>\n",
       "      <td>0.247</td>\n",
       "      <td>0.097</td>\n",
       "      <td>0.102</td>\n",
       "      <td>0.030</td>\n",
       "      <td>0.010</td>\n",
       "      <td>2.73</td>\n",
       "    </tr>\n",
       "    <tr>\n",
       "      <th>36</th>\n",
       "      <td>08-04-20</td>\n",
       "      <td>218.0</td>\n",
       "      <td>54.0</td>\n",
       "      <td>23.429</td>\n",
       "      <td>20.0</td>\n",
       "      <td>3.0</td>\n",
       "      <td>2.000</td>\n",
       "      <td>1.311</td>\n",
       "      <td>0.325</td>\n",
       "      <td>0.141</td>\n",
       "      <td>0.120</td>\n",
       "      <td>0.018</td>\n",
       "      <td>0.012</td>\n",
       "      <td>2.78</td>\n",
       "    </tr>\n",
       "    <tr>\n",
       "      <th>37</th>\n",
       "      <td>09-04-20</td>\n",
       "      <td>330.0</td>\n",
       "      <td>112.0</td>\n",
       "      <td>39.143</td>\n",
       "      <td>21.0</td>\n",
       "      <td>1.0</td>\n",
       "      <td>2.143</td>\n",
       "      <td>1.984</td>\n",
       "      <td>0.673</td>\n",
       "      <td>0.235</td>\n",
       "      <td>0.126</td>\n",
       "      <td>0.006</td>\n",
       "      <td>0.013</td>\n",
       "      <td>2.82</td>\n",
       "    </tr>\n",
       "    <tr>\n",
       "      <th>38</th>\n",
       "      <td>10-04-20</td>\n",
       "      <td>424.0</td>\n",
       "      <td>94.0</td>\n",
       "      <td>51.857</td>\n",
       "      <td>27.0</td>\n",
       "      <td>6.0</td>\n",
       "      <td>3.000</td>\n",
       "      <td>2.550</td>\n",
       "      <td>0.565</td>\n",
       "      <td>0.312</td>\n",
       "      <td>0.162</td>\n",
       "      <td>0.036</td>\n",
       "      <td>0.018</td>\n",
       "      <td>2.71</td>\n",
       "    </tr>\n",
       "    <tr>\n",
       "      <th>39</th>\n",
       "      <td>11-04-20</td>\n",
       "      <td>482.0</td>\n",
       "      <td>58.0</td>\n",
       "      <td>58.857</td>\n",
       "      <td>30.0</td>\n",
       "      <td>3.0</td>\n",
       "      <td>3.143</td>\n",
       "      <td>2.898</td>\n",
       "      <td>0.349</td>\n",
       "      <td>0.354</td>\n",
       "      <td>0.180</td>\n",
       "      <td>0.018</td>\n",
       "      <td>0.019</td>\n",
       "      <td>2.60</td>\n",
       "    </tr>\n",
       "  </tbody>\n",
       "</table>\n",
       "</div>"
      ],
      "text/plain": [
       "        DATE  total_cases  Daily new cases  new_cases_smoothed  total_deaths  \\\n",
       "35  07-04-20        164.0             41.0              16.143          17.0   \n",
       "36  08-04-20        218.0             54.0              23.429          20.0   \n",
       "37  09-04-20        330.0            112.0              39.143          21.0   \n",
       "38  10-04-20        424.0             94.0              51.857          27.0   \n",
       "39  11-04-20        482.0             58.0              58.857          30.0   \n",
       "\n",
       "    new_deaths  new_deaths_smoothed  total_cases_per_million  \\\n",
       "35         5.0                1.714                    0.986   \n",
       "36         3.0                2.000                    1.311   \n",
       "37         1.0                2.143                    1.984   \n",
       "38         6.0                3.000                    2.550   \n",
       "39         3.0                3.143                    2.898   \n",
       "\n",
       "    new_cases_per_million  new_cases_smoothed_per_million  \\\n",
       "35                  0.247                           0.097   \n",
       "36                  0.325                           0.141   \n",
       "37                  0.673                           0.235   \n",
       "38                  0.565                           0.312   \n",
       "39                  0.349                           0.354   \n",
       "\n",
       "    total_deaths_per_million  new_deaths_per_million  \\\n",
       "35                     0.102                   0.030   \n",
       "36                     0.120                   0.018   \n",
       "37                     0.126                   0.006   \n",
       "38                     0.162                   0.036   \n",
       "39                     0.180                   0.018   \n",
       "\n",
       "    new_deaths_smoothed_per_million  reproduction_rate  \n",
       "35                            0.010               2.73  \n",
       "36                            0.012               2.78  \n",
       "37                            0.013               2.82  \n",
       "38                            0.018               2.71  \n",
       "39                            0.019               2.60  "
      ]
     },
     "execution_count": 60,
     "metadata": {},
     "output_type": "execute_result"
    }
   ],
   "source": [
    "#dataset = pd.read_csv('C:/Users/SRTINNI/Desktop/covid_lstm.csv')\n",
    "dataset = pd.read_csv('C:/Users/SRTINNI/Desktop/TPW/Datasets/covid-19 data set/this dataset are final/covid_full.csv')\n",
    "dataset.index.asfreq = 'MS'\n",
    "dataset=dataset.dropna()\n",
    "dataset.head()\n",
    "#dataset.dtypes"
   ]
  },
  {
   "cell_type": "code",
   "execution_count": 61,
   "metadata": {},
   "outputs": [
    {
     "data": {
      "text/plain": [
       "DATE                                object\n",
       "total_cases                        float64\n",
       "Daily new cases                    float64\n",
       "new_cases_smoothed                 float64\n",
       "total_deaths                       float64\n",
       "new_deaths                         float64\n",
       "new_deaths_smoothed                float64\n",
       "total_cases_per_million            float64\n",
       "new_cases_per_million              float64\n",
       "new_cases_smoothed_per_million     float64\n",
       "total_deaths_per_million           float64\n",
       "new_deaths_per_million             float64\n",
       "new_deaths_smoothed_per_million    float64\n",
       "reproduction_rate                  float64\n",
       "dtype: object"
      ]
     },
     "execution_count": 61,
     "metadata": {},
     "output_type": "execute_result"
    }
   ],
   "source": [
    "dataset.dtypes"
   ]
  },
  {
   "cell_type": "code",
   "execution_count": 62,
   "metadata": {},
   "outputs": [],
   "source": [
    "#dataset['Date1']=pd.to_datetime(dataset.Date)"
   ]
  },
  {
   "cell_type": "code",
   "execution_count": 63,
   "metadata": {},
   "outputs": [
    {
     "data": {
      "text/plain": [
       "(625, 6)"
      ]
     },
     "execution_count": 63,
     "metadata": {},
     "output_type": "execute_result"
    }
   ],
   "source": [
    "X=np.array(dataset[['total_cases','new_deaths','total_cases_per_million','new_cases_per_million','total_deaths','new_deaths_per_million']])\n",
    "X.shape"
   ]
  },
  {
   "cell_type": "code",
   "execution_count": 64,
   "metadata": {},
   "outputs": [
    {
     "data": {
      "text/plain": [
       "(625,)"
      ]
     },
     "execution_count": 64,
     "metadata": {},
     "output_type": "execute_result"
    }
   ],
   "source": [
    "y= np.array(dataset['Daily new cases'])\n",
    "y.shape"
   ]
  },
  {
   "cell_type": "code",
   "execution_count": 65,
   "metadata": {},
   "outputs": [
    {
     "data": {
      "text/plain": [
       "(188, 6)"
      ]
     },
     "execution_count": 65,
     "metadata": {},
     "output_type": "execute_result"
    }
   ],
   "source": [
    "from sklearn.model_selection import train_test_split\n",
    "X_train, X_test, y_train, y_test = train_test_split(X,y,test_size=0.30)\n",
    "#X_train.shape\n",
    "X_test.shape"
   ]
  },
  {
   "cell_type": "code",
   "execution_count": 66,
   "metadata": {},
   "outputs": [
    {
     "name": "stderr",
     "output_type": "stream",
     "text": [
      "C:\\Users\\SRTINNI\\anaconda3\\lib\\site-packages\\sklearn\\svm\\_base.py:976: ConvergenceWarning: Liblinear failed to converge, increase the number of iterations.\n",
      "  warnings.warn(\"Liblinear failed to converge, increase \"\n"
     ]
    },
    {
     "data": {
      "text/plain": [
       "0.0"
      ]
     },
     "execution_count": 66,
     "metadata": {},
     "output_type": "execute_result"
    }
   ],
   "source": [
    "lr = LogisticRegression(solver='liblinear',multi_class='ovr')\n",
    "lr.fit(X_train, y_train)\n",
    "lr.score(X_test, y_test)"
   ]
  },
  {
   "cell_type": "code",
   "execution_count": 67,
   "metadata": {},
   "outputs": [
    {
     "data": {
      "text/plain": [
       "0.0"
      ]
     },
     "execution_count": 67,
     "metadata": {},
     "output_type": "execute_result"
    }
   ],
   "source": [
    "svm = SVC(gamma='auto')\n",
    "svm.fit(X_train, y_train)\n",
    "svm.score(X_test, y_test)"
   ]
  },
  {
   "cell_type": "code",
   "execution_count": 68,
   "metadata": {},
   "outputs": [
    {
     "data": {
      "text/plain": [
       "0.9999999996691239"
      ]
     },
     "execution_count": 68,
     "metadata": {},
     "output_type": "execute_result"
    }
   ],
   "source": [
    "lir = LinearRegression()\n",
    "lir.fit(X_train, y_train)\n",
    "lir.score(X_test, y_test)"
   ]
  },
  {
   "cell_type": "code",
   "execution_count": 69,
   "metadata": {},
   "outputs": [
    {
     "data": {
      "text/plain": [
       "0.005319148936170213"
      ]
     },
     "execution_count": 69,
     "metadata": {},
     "output_type": "execute_result"
    }
   ],
   "source": [
    "rf = RandomForestClassifier(n_estimators=40)\n",
    "rf.fit(X_train, y_train)\n",
    "rf.score(X_test, y_test)"
   ]
  },
  {
   "cell_type": "code",
   "execution_count": 70,
   "metadata": {},
   "outputs": [
    {
     "data": {
      "text/plain": [
       "array([1., 1., 1., 1., 1., 1., 1., 1., 1., 1.])"
      ]
     },
     "execution_count": 70,
     "metadata": {},
     "output_type": "execute_result"
    }
   ],
   "source": [
    "#folding on train dataset\n",
    "from sklearn.model_selection import cross_val_score\n",
    "#10 fold cv\n",
    "scores = cross_val_score(lir,X_train,y_train,scoring='r2',cv=10)\n",
    "scores"
   ]
  },
  {
   "cell_type": "code",
   "execution_count": 71,
   "metadata": {},
   "outputs": [
    {
     "name": "stdout",
     "output_type": "stream",
     "text": [
      "0.9999999997352319\n"
     ]
    }
   ],
   "source": [
    "print(np.mean(scores))"
   ]
  },
  {
   "cell_type": "code",
   "execution_count": 72,
   "metadata": {},
   "outputs": [
    {
     "data": {
      "text/plain": [
       "array([ 1607.98565651,  2518.99819406,  8660.92285681,  3199.999108  ,\n",
       "        7614.04293543,  1487.91871472,  1540.96628682,   978.02754175,\n",
       "         472.96437845,  2694.9493832 ,  3724.02399924,  1334.91642387,\n",
       "        2735.02613637,  1140.0064106 ,  3489.03377287,  5726.98276744,\n",
       "        6028.00841966,   606.00721461,  2685.95888612,   644.89810886,\n",
       "        3480.06011058,   293.00637351,  3435.98292654,  1873.06364683,\n",
       "         305.98931102,  1382.95759748,   599.00608315,  2587.99688979,\n",
       "        1950.07969778,  2595.00574731,  7625.99948934,  1702.942288  ,\n",
       "        5249.0356909 ,  1592.0152656 ,  2960.03359506,   844.98441317,\n",
       "        3736.99823029,  3034.0349721 ,  1382.97943135,  1970.03171774,\n",
       "        2906.9741447 ,  1681.9967752 ,  2363.99808054,   308.97273644,\n",
       "        3200.99838291,  2976.98943476,  1152.98778075,   282.03948384,\n",
       "        2910.95980196, 11163.96519029,  1317.95221218,  7087.0131035 ,\n",
       "         435.04576514,   497.06129802,  2644.0534081 ,  4271.01610452,\n",
       "       11161.95956196,  2868.06328721,  3305.95661446,  1766.97494802,\n",
       "        1693.95479344,   602.01938078,  2616.94468745,   438.04069458,\n",
       "        1950.07565128,  2855.92610096,  2855.91953697,  3948.03852937,\n",
       "        2419.04723288,  2921.96673968,  1508.03260625,  1953.05988042,\n",
       "        1871.07953138,  1536.97480463,  6684.08226611,   291.02093039,\n",
       "        1232.9534847 ,  4965.98058009,    41.06938009,  2710.07322128,\n",
       "         859.94025318,  3586.99020056,  1041.04912154,   177.92969573,\n",
       "         910.01471164,   259.91412305,  1892.0336089 ,  3099.06778589,\n",
       "        3530.95479961,  1841.97555854,  1739.0505506 ,   578.0751913 ,\n",
       "        8822.06250884,   276.04955979,  1603.99131218,  6469.02954598,\n",
       "        1134.03088333,  1272.0572664 ,   539.98894436,  1475.94055868,\n",
       "        3061.97085645,  1698.9573079 ,   363.04502037,   275.0477313 ,\n",
       "        1193.05855284,  1724.08058331,   199.04836547,  1742.04182546,\n",
       "         215.00931232,  2187.04949214,  1772.96173394,  5357.96566509,\n",
       "        7248.00373279,  1526.99720031,  1544.94967225,  2138.99277588,\n",
       "        1901.00075054,  6829.90850125,   165.96806629,  8301.04011529,\n",
       "        3808.99601195,   384.98906411,  1317.95098934,   443.03810244,\n",
       "        8772.01952258,  1358.0232777 ,  6780.04541576,  1027.91076046,\n",
       "         717.92555173,  5041.97078401,   813.04283804,  2743.99880802,\n",
       "        1017.93116496,  7462.02955459,  2487.05217531,  3697.92840707,\n",
       "       12235.94504596,   785.92978593, 11323.94651944,  1497.0688849 ,\n",
       "         238.95215384,  1105.91101171, 10299.0160424 ,  1013.93949454,\n",
       "        3907.96649135,  1877.08346928,  1827.01072611,  3567.02591462,\n",
       "        1616.9442272 ,  2423.0205837 ,   277.04797569,  4559.0510813 ,\n",
       "        2400.9253194 ,   269.06195085,  1446.99706234, 15776.05192295,\n",
       "        1861.92226536,  1586.03109462,  2202.0279371 ,  2522.97807804,\n",
       "        1499.05210231,   665.0385397 ,  1860.93023744,   395.95990763,\n",
       "         846.97109918,  1743.01755527,  1309.95866431,   434.03746906,\n",
       "        1158.95929515,  2202.02012483,  7075.05040169,   273.05638933,\n",
       "        1822.01490779,  2746.98892876,  1799.07376115,    54.04004301,\n",
       "        1326.91766574,  1469.95695065,  2273.02916897,  4014.06097806,\n",
       "        1844.96083173,  6363.93804318,   150.98276128,  4279.99306673,\n",
       "        1554.92694807,  3774.92039397,   613.9808145 ,  1190.05100546])"
      ]
     },
     "execution_count": 72,
     "metadata": {},
     "output_type": "execute_result"
    }
   ],
   "source": [
    "#printing the scores on the test dataset\n",
    "# First prediction\n",
    "from sklearn.model_selection import cross_val_predict\n",
    "#the prediction\n",
    "pred = cross_val_predict(lir,X_test,y_test)\n",
    "pred"
   ]
  },
  {
   "cell_type": "code",
   "execution_count": 73,
   "metadata": {},
   "outputs": [],
   "source": [
    "#dataset['Date1']=dataset['Date1'].map(dt.datetime.toordinal)"
   ]
  },
  {
   "cell_type": "code",
   "execution_count": 74,
   "metadata": {},
   "outputs": [
    {
     "data": {
      "text/plain": [
       "array([1., 1., 1., 1., 1., 1., 1., 1., 1., 1.])"
      ]
     },
     "execution_count": 74,
     "metadata": {},
     "output_type": "execute_result"
    }
   ],
   "source": [
    "#10 fold cv on test dataset\n",
    "scores_test= cross_val_score(lir,X_test,y_test,cv=10)\n",
    "scores_test"
   ]
  },
  {
   "cell_type": "code",
   "execution_count": 75,
   "metadata": {},
   "outputs": [
    {
     "name": "stdout",
     "output_type": "stream",
     "text": [
      "0.9999999994952052\n"
     ]
    }
   ],
   "source": [
    "print(np.mean(scores_test))"
   ]
  },
  {
   "cell_type": "code",
   "execution_count": 76,
   "metadata": {},
   "outputs": [],
   "source": [
    "#date=dataset['Date1'] \n",
    "#date=np.array(date)\n",
    "#date\n",
    "\n",
    "#confirm=dataset['Daily new cases']\n",
    "#confirm=np.array(confirm)\n",
    "#confirm\n",
    "#dataset['date']=np.array(date.reshape(-1,1))\n",
    "#date\n",
    "#dataset['confirm'] =np.array(confirm.reshape(-1,1))\n",
    "#confirm"
   ]
  },
  {
   "cell_type": "code",
   "execution_count": 77,
   "metadata": {},
   "outputs": [],
   "source": [
    "def get_score(model, X_train, X_test, y_train, y_test):\n",
    "    model.fit(X_train, y_train)\n",
    "    return model.score(X_test, y_test)"
   ]
  },
  {
   "cell_type": "code",
   "execution_count": 78,
   "metadata": {},
   "outputs": [
    {
     "data": {
      "text/plain": [
       "0.005319148936170213"
      ]
     },
     "execution_count": 78,
     "metadata": {},
     "output_type": "execute_result"
    }
   ],
   "source": [
    "get_score(RandomForestClassifier(n_estimators=40), X_train, X_test, y_train, y_test)"
   ]
  },
  {
   "cell_type": "code",
   "execution_count": 80,
   "metadata": {},
   "outputs": [
    {
     "data": {
      "text/plain": [
       "0.9999999996691239"
      ]
     },
     "execution_count": 80,
     "metadata": {},
     "output_type": "execute_result"
    }
   ],
   "source": [
    "get_score(LinearRegression(), X_train, X_test, y_train, y_test)\n"
   ]
  },
  {
   "cell_type": "code",
   "execution_count": 81,
   "metadata": {},
   "outputs": [],
   "source": [
    "#date=np.array(date[737632,737633,737634,737636,737637,737432,737463,737492,737523,737553,737584,737614,737645,737676,737706,737737,737767,737650,737651,737652,737653,737654,737655,737656,737657,737658,737659,737660,737661,737662,737663,737664,737665,737666,737667,737668,737433,737464,737493,737524,737554,737585,737615,737646,737677,737707,737738,737768,737681,737682,737683,737684,737685,737686,737687,737688,737689,737690,737691,737692,737693,737694,737695,737696,737697,737698,737699,737434,737465,737494,737525,737555,737586,737616,737647,737678,737708])\n",
    "#date.size"
   ]
  },
  {
   "cell_type": "code",
   "execution_count": 82,
   "metadata": {},
   "outputs": [],
   "source": [
    "from sklearn.ensemble import RandomForestRegressor"
   ]
  },
  {
   "cell_type": "code",
   "execution_count": 84,
   "metadata": {},
   "outputs": [
    {
     "data": {
      "text/plain": [
       "0.9994350510138713"
      ]
     },
     "execution_count": 84,
     "metadata": {},
     "output_type": "execute_result"
    }
   ],
   "source": [
    "get_score(RandomForestRegressor(n_estimators=40), X_train, X_test, y_train, y_test)"
   ]
  },
  {
   "cell_type": "code",
   "execution_count": 85,
   "metadata": {},
   "outputs": [],
   "source": [
    "#get_score(SVC(), X_train, X_test, y_train, y_test)"
   ]
  },
  {
   "cell_type": "code",
   "execution_count": 86,
   "metadata": {},
   "outputs": [],
   "source": [
    "#from sklearn.model_selection import StratifiedKFold\n",
    "#folds = StratifiedKFold(n_splits=3)\n",
    "\n",
    "#scores_logistic = []\n",
    "#scores_svm = []\n",
    "#scores_rf = []\n",
    "#scores_linear = []\n",
    "#scores_rfr = []\n",
    "\n",
    "#for train_index, test_index in folds.split(X,y):\n",
    "#    X_train, X_test, y_train, y_test = X[train_index], y[test_index], \\\n",
    "                                       #X[train_index], y[test_index]\n",
    "    #scores_logistic.append(get_score(LogisticRegression(solver='liblinear',multi_class='ovr'), X_train, X_test, y_train, y_test))  \n",
    "   # scores_svm.append(get_score(SVC(gamma='auto'), X_train, X_test, y_train, y_test))\n",
    "   # scores_rf.append(get_score(RandomForestClassifier(n_estimators=40), X_train, X_test, y_train, y_test))\n",
    "   # scores_linear.append(get_score(LinearRegression(), X_train, X_test, y_train, y_test))\n",
    "   # scores_rfr.append(get_score(RandomForestRegressor(n_estimators=40), X_train, X_test, y_train, y_test))"
   ]
  },
  {
   "cell_type": "code",
   "execution_count": 87,
   "metadata": {},
   "outputs": [],
   "source": [
    "from sklearn.model_selection import cross_val_score"
   ]
  },
  {
   "cell_type": "code",
   "execution_count": 88,
   "metadata": {},
   "outputs": [],
   "source": [
    "#cross_val_score(LogisticRegression(solver='liblinear',multi_class='ovr'), X, y,cv=3)"
   ]
  },
  {
   "cell_type": "code",
   "execution_count": 89,
   "metadata": {
    "scrolled": true
   },
   "outputs": [],
   "source": [
    "#cross_val_score(SVC(gamma='auto'), X, y,cv=5)"
   ]
  },
  {
   "cell_type": "code",
   "execution_count": 90,
   "metadata": {},
   "outputs": [],
   "source": [
    "#cross_val_score(RandomForestClassifier(n_estimators=40),X, y,cv=3)"
   ]
  },
  {
   "cell_type": "code",
   "execution_count": 95,
   "metadata": {},
   "outputs": [
    {
     "data": {
      "text/plain": [
       "array([0.99946218, 0.99970642, 0.75780333])"
      ]
     },
     "execution_count": 95,
     "metadata": {},
     "output_type": "execute_result"
    }
   ],
   "source": [
    "cross_val_score(RandomForestRegressor(n_estimators=40),X, y,cv=3)"
   ]
  },
  {
   "cell_type": "code",
   "execution_count": 96,
   "metadata": {},
   "outputs": [
    {
     "data": {
      "text/plain": [
       "array([1., 1., 1.])"
      ]
     },
     "execution_count": 96,
     "metadata": {},
     "output_type": "execute_result"
    }
   ],
   "source": [
    " cross_val_score(LinearRegression(), X, y,cv=3)"
   ]
  },
  {
   "cell_type": "code",
   "execution_count": null,
   "metadata": {},
   "outputs": [],
   "source": []
  },
  {
   "cell_type": "code",
   "execution_count": null,
   "metadata": {},
   "outputs": [],
   "source": []
  },
  {
   "cell_type": "code",
   "execution_count": null,
   "metadata": {},
   "outputs": [],
   "source": []
  }
 ],
 "metadata": {
  "kernelspec": {
   "display_name": "Python 3",
   "language": "python",
   "name": "python3"
  },
  "language_info": {
   "codemirror_mode": {
    "name": "ipython",
    "version": 3
   },
   "file_extension": ".py",
   "mimetype": "text/x-python",
   "name": "python",
   "nbconvert_exporter": "python",
   "pygments_lexer": "ipython3",
   "version": "3.8.5"
  }
 },
 "nbformat": 4,
 "nbformat_minor": 4
}
